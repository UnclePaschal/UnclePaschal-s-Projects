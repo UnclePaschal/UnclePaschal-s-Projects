{
 "cells": [
  {
   "cell_type": "code",
   "execution_count": 1,
   "id": "11424513-5a83-4bd0-9821-a68fac70c6ba",
   "metadata": {},
   "outputs": [],
   "source": [
    "import pandas as pd\n",
    "import numpy as np"
   ]
  },
  {
   "cell_type": "code",
   "execution_count": 2,
   "id": "30b32f35-fb3f-4c17-892e-56cfb3033665",
   "metadata": {},
   "outputs": [],
   "source": [
    "pro=pd.read_csv('Project_Employee.csv')"
   ]
  },
  {
   "cell_type": "code",
   "execution_count": 3,
   "id": "cc05fbc3-25ca-4f6d-92b7-d3e8afe13b1f",
   "metadata": {},
   "outputs": [
    {
     "data": {
      "text/html": [
       "<div>\n",
       "<style scoped>\n",
       "    .dataframe tbody tr th:only-of-type {\n",
       "        vertical-align: middle;\n",
       "    }\n",
       "\n",
       "    .dataframe tbody tr th {\n",
       "        vertical-align: top;\n",
       "    }\n",
       "\n",
       "    .dataframe thead th {\n",
       "        text-align: right;\n",
       "    }\n",
       "</style>\n",
       "<table border=\"1\" class=\"dataframe\">\n",
       "  <thead>\n",
       "    <tr style=\"text-align: right;\">\n",
       "      <th></th>\n",
       "      <th>Year_Type</th>\n",
       "      <th>Year</th>\n",
       "      <th>Employee_Id</th>\n",
       "      <th>Salaries</th>\n",
       "      <th>Overtime</th>\n",
       "      <th>Bonus</th>\n",
       "      <th>Retirement</th>\n",
       "      <th>Health/Dental</th>\n",
       "      <th>Other_Benefits</th>\n",
       "    </tr>\n",
       "  </thead>\n",
       "  <tbody>\n",
       "    <tr>\n",
       "      <th>0</th>\n",
       "      <td>Fiscal</td>\n",
       "      <td>2015</td>\n",
       "      <td>42853</td>\n",
       "      <td>92288.22</td>\n",
       "      <td>267.45</td>\n",
       "      <td>267.45</td>\n",
       "      <td>20700.20</td>\n",
       "      <td>12500.56</td>\n",
       "      <td>7605.75</td>\n",
       "    </tr>\n",
       "    <tr>\n",
       "      <th>1</th>\n",
       "      <td>Calendar</td>\n",
       "      <td>2015</td>\n",
       "      <td>28248</td>\n",
       "      <td>1466.38</td>\n",
       "      <td>348.23</td>\n",
       "      <td>0.00</td>\n",
       "      <td>0.00</td>\n",
       "      <td>442.03</td>\n",
       "      <td>141.59</td>\n",
       "    </tr>\n",
       "    <tr>\n",
       "      <th>2</th>\n",
       "      <td>Fiscal</td>\n",
       "      <td>2014</td>\n",
       "      <td>30651</td>\n",
       "      <td>76536.95</td>\n",
       "      <td>13583.72</td>\n",
       "      <td>10855.94</td>\n",
       "      <td>18632.19</td>\n",
       "      <td>12464.61</td>\n",
       "      <td>8011.41</td>\n",
       "    </tr>\n",
       "    <tr>\n",
       "      <th>3</th>\n",
       "      <td>Fiscal</td>\n",
       "      <td>2014</td>\n",
       "      <td>19473</td>\n",
       "      <td>45659.88</td>\n",
       "      <td>0.00</td>\n",
       "      <td>1625.37</td>\n",
       "      <td>10081.20</td>\n",
       "      <td>0.00</td>\n",
       "      <td>3936.63</td>\n",
       "    </tr>\n",
       "    <tr>\n",
       "      <th>4</th>\n",
       "      <td>Fiscal</td>\n",
       "      <td>2013</td>\n",
       "      <td>7176</td>\n",
       "      <td>41832.00</td>\n",
       "      <td>0.00</td>\n",
       "      <td>0.00</td>\n",
       "      <td>7617.60</td>\n",
       "      <td>5908.52</td>\n",
       "      <td>3254.50</td>\n",
       "    </tr>\n",
       "    <tr>\n",
       "      <th>...</th>\n",
       "      <td>...</td>\n",
       "      <td>...</td>\n",
       "      <td>...</td>\n",
       "      <td>...</td>\n",
       "      <td>...</td>\n",
       "      <td>...</td>\n",
       "      <td>...</td>\n",
       "      <td>...</td>\n",
       "      <td>...</td>\n",
       "    </tr>\n",
       "    <tr>\n",
       "      <th>49995</th>\n",
       "      <td>Fiscal</td>\n",
       "      <td>2016</td>\n",
       "      <td>1629</td>\n",
       "      <td>100222.50</td>\n",
       "      <td>17166.13</td>\n",
       "      <td>600.00</td>\n",
       "      <td>18763.05</td>\n",
       "      <td>13068.80</td>\n",
       "      <td>9406.86</td>\n",
       "    </tr>\n",
       "    <tr>\n",
       "      <th>49996</th>\n",
       "      <td>Fiscal</td>\n",
       "      <td>2014</td>\n",
       "      <td>35471</td>\n",
       "      <td>1787.41</td>\n",
       "      <td>0.00</td>\n",
       "      <td>0.00</td>\n",
       "      <td>0.00</td>\n",
       "      <td>563.31</td>\n",
       "      <td>145.36</td>\n",
       "    </tr>\n",
       "    <tr>\n",
       "      <th>49997</th>\n",
       "      <td>Fiscal</td>\n",
       "      <td>2016</td>\n",
       "      <td>42176</td>\n",
       "      <td>36552.83</td>\n",
       "      <td>0.00</td>\n",
       "      <td>0.00</td>\n",
       "      <td>6802.48</td>\n",
       "      <td>6855.83</td>\n",
       "      <td>3071.63</td>\n",
       "    </tr>\n",
       "    <tr>\n",
       "      <th>49998</th>\n",
       "      <td>Fiscal</td>\n",
       "      <td>2016</td>\n",
       "      <td>10980</td>\n",
       "      <td>46995.30</td>\n",
       "      <td>0.00</td>\n",
       "      <td>10943.14</td>\n",
       "      <td>8840.98</td>\n",
       "      <td>10624.64</td>\n",
       "      <td>4706.37</td>\n",
       "    </tr>\n",
       "    <tr>\n",
       "      <th>49999</th>\n",
       "      <td>Fiscal</td>\n",
       "      <td>2014</td>\n",
       "      <td>29083</td>\n",
       "      <td>69268.81</td>\n",
       "      <td>0.00</td>\n",
       "      <td>1648.09</td>\n",
       "      <td>15119.46</td>\n",
       "      <td>12464.61</td>\n",
       "      <td>5853.52</td>\n",
       "    </tr>\n",
       "  </tbody>\n",
       "</table>\n",
       "<p>50000 rows × 9 columns</p>\n",
       "</div>"
      ],
      "text/plain": [
       "      Year_Type  Year  Employee_Id   Salaries  Overtime     Bonus  Retirement  \\\n",
       "0        Fiscal  2015        42853   92288.22    267.45    267.45    20700.20   \n",
       "1      Calendar  2015        28248    1466.38    348.23      0.00        0.00   \n",
       "2        Fiscal  2014        30651   76536.95  13583.72  10855.94    18632.19   \n",
       "3        Fiscal  2014        19473   45659.88      0.00   1625.37    10081.20   \n",
       "4        Fiscal  2013         7176   41832.00      0.00      0.00     7617.60   \n",
       "...         ...   ...          ...        ...       ...       ...         ...   \n",
       "49995    Fiscal  2016         1629  100222.50  17166.13    600.00    18763.05   \n",
       "49996    Fiscal  2014        35471    1787.41      0.00      0.00        0.00   \n",
       "49997    Fiscal  2016        42176   36552.83      0.00      0.00     6802.48   \n",
       "49998    Fiscal  2016        10980   46995.30      0.00  10943.14     8840.98   \n",
       "49999    Fiscal  2014        29083   69268.81      0.00   1648.09    15119.46   \n",
       "\n",
       "       Health/Dental  Other_Benefits  \n",
       "0           12500.56         7605.75  \n",
       "1             442.03          141.59  \n",
       "2           12464.61         8011.41  \n",
       "3               0.00         3936.63  \n",
       "4            5908.52         3254.50  \n",
       "...              ...             ...  \n",
       "49995       13068.80         9406.86  \n",
       "49996         563.31          145.36  \n",
       "49997        6855.83         3071.63  \n",
       "49998       10624.64         4706.37  \n",
       "49999       12464.61         5853.52  \n",
       "\n",
       "[50000 rows x 9 columns]"
      ]
     },
     "execution_count": 3,
     "metadata": {},
     "output_type": "execute_result"
    }
   ],
   "source": [
    "pro"
   ]
  },
  {
   "cell_type": "code",
   "execution_count": 4,
   "id": "3e76cd23-4d32-40eb-b7cc-d09183acf601",
   "metadata": {},
   "outputs": [
    {
     "name": "stdout",
     "output_type": "stream",
     "text": [
      "      Year_Type  Year  Employee_Id   Salaries  Overtime     Bonus  Retirement  \\\n",
      "0        Fiscal  2015        42853   92288.22    267.45    267.45    20700.20   \n",
      "1      Calendar  2015        28248    1466.38    348.23      0.00        0.00   \n",
      "2        Fiscal  2014        30651   76536.95  13583.72  10855.94    18632.19   \n",
      "3        Fiscal  2014        19473   45659.88      0.00   1625.37    10081.20   \n",
      "4        Fiscal  2013         7176   41832.00      0.00      0.00     7617.60   \n",
      "...         ...   ...          ...        ...       ...       ...         ...   \n",
      "49995    Fiscal  2016         1629  100222.50  17166.13    600.00    18763.05   \n",
      "49996    Fiscal  2014        35471    1787.41      0.00      0.00        0.00   \n",
      "49997    Fiscal  2016        42176   36552.83      0.00      0.00     6802.48   \n",
      "49998    Fiscal  2016        10980   46995.30      0.00  10943.14     8840.98   \n",
      "49999    Fiscal  2014        29083   69268.81      0.00   1648.09    15119.46   \n",
      "\n",
      "       Health/Dental  Other_Benefits  \n",
      "0           12500.56         7605.75  \n",
      "1             442.03          141.59  \n",
      "2           12464.61         8011.41  \n",
      "3               0.00         3936.63  \n",
      "4            5908.52         3254.50  \n",
      "...              ...             ...  \n",
      "49995       13068.80         9406.86  \n",
      "49996         563.31          145.36  \n",
      "49997        6855.83         3071.63  \n",
      "49998       10624.64         4706.37  \n",
      "49999       12464.61         5853.52  \n",
      "\n",
      "[50000 rows x 9 columns]\n"
     ]
    }
   ],
   "source": [
    "print(pro)"
   ]
  },
  {
   "cell_type": "code",
   "execution_count": 5,
   "id": "747add99-fcfa-483b-80a0-ec006496bfd3",
   "metadata": {},
   "outputs": [],
   "source": [
    "#Calculated columns"
   ]
  },
  {
   "cell_type": "code",
   "execution_count": 6,
   "id": "9c115473-5643-4434-a399-96300b3605d1",
   "metadata": {},
   "outputs": [],
   "source": [
    "pro['Total_Salaries']=pro['Salaries'] + pro['Overtime'] + pro['Bonus']\n",
    "pro['Total_Benefits']=pro['Retirement'] + pro['Health/Dental'] + pro['Other_Benefits']\n",
    "pro['Total_Compensation']=pro['Total_Salaries'] + pro['Total_Benefits']"
   ]
  },
  {
   "cell_type": "code",
   "execution_count": 7,
   "id": "32d5d860-7842-4f90-921f-a7e2d26d018e",
   "metadata": {},
   "outputs": [
    {
     "data": {
      "text/html": [
       "<div>\n",
       "<style scoped>\n",
       "    .dataframe tbody tr th:only-of-type {\n",
       "        vertical-align: middle;\n",
       "    }\n",
       "\n",
       "    .dataframe tbody tr th {\n",
       "        vertical-align: top;\n",
       "    }\n",
       "\n",
       "    .dataframe thead th {\n",
       "        text-align: right;\n",
       "    }\n",
       "</style>\n",
       "<table border=\"1\" class=\"dataframe\">\n",
       "  <thead>\n",
       "    <tr style=\"text-align: right;\">\n",
       "      <th></th>\n",
       "      <th>Year_Type</th>\n",
       "      <th>Year</th>\n",
       "      <th>Employee_Id</th>\n",
       "      <th>Salaries</th>\n",
       "      <th>Overtime</th>\n",
       "      <th>Bonus</th>\n",
       "      <th>Retirement</th>\n",
       "      <th>Health/Dental</th>\n",
       "      <th>Other_Benefits</th>\n",
       "      <th>Total_Salaries</th>\n",
       "      <th>Total_Benefits</th>\n",
       "      <th>Total_Compensation</th>\n",
       "    </tr>\n",
       "  </thead>\n",
       "  <tbody>\n",
       "    <tr>\n",
       "      <th>0</th>\n",
       "      <td>Fiscal</td>\n",
       "      <td>2015</td>\n",
       "      <td>42853</td>\n",
       "      <td>92288.22</td>\n",
       "      <td>267.45</td>\n",
       "      <td>267.45</td>\n",
       "      <td>20700.20</td>\n",
       "      <td>12500.56</td>\n",
       "      <td>7605.75</td>\n",
       "      <td>92823.12</td>\n",
       "      <td>40806.51</td>\n",
       "      <td>133629.63</td>\n",
       "    </tr>\n",
       "    <tr>\n",
       "      <th>1</th>\n",
       "      <td>Calendar</td>\n",
       "      <td>2015</td>\n",
       "      <td>28248</td>\n",
       "      <td>1466.38</td>\n",
       "      <td>348.23</td>\n",
       "      <td>0.00</td>\n",
       "      <td>0.00</td>\n",
       "      <td>442.03</td>\n",
       "      <td>141.59</td>\n",
       "      <td>1814.61</td>\n",
       "      <td>583.62</td>\n",
       "      <td>2398.23</td>\n",
       "    </tr>\n",
       "    <tr>\n",
       "      <th>2</th>\n",
       "      <td>Fiscal</td>\n",
       "      <td>2014</td>\n",
       "      <td>30651</td>\n",
       "      <td>76536.95</td>\n",
       "      <td>13583.72</td>\n",
       "      <td>10855.94</td>\n",
       "      <td>18632.19</td>\n",
       "      <td>12464.61</td>\n",
       "      <td>8011.41</td>\n",
       "      <td>100976.61</td>\n",
       "      <td>39108.21</td>\n",
       "      <td>140084.82</td>\n",
       "    </tr>\n",
       "    <tr>\n",
       "      <th>3</th>\n",
       "      <td>Fiscal</td>\n",
       "      <td>2014</td>\n",
       "      <td>19473</td>\n",
       "      <td>45659.88</td>\n",
       "      <td>0.00</td>\n",
       "      <td>1625.37</td>\n",
       "      <td>10081.20</td>\n",
       "      <td>0.00</td>\n",
       "      <td>3936.63</td>\n",
       "      <td>47285.25</td>\n",
       "      <td>14017.83</td>\n",
       "      <td>61303.08</td>\n",
       "    </tr>\n",
       "    <tr>\n",
       "      <th>4</th>\n",
       "      <td>Fiscal</td>\n",
       "      <td>2013</td>\n",
       "      <td>7176</td>\n",
       "      <td>41832.00</td>\n",
       "      <td>0.00</td>\n",
       "      <td>0.00</td>\n",
       "      <td>7617.60</td>\n",
       "      <td>5908.52</td>\n",
       "      <td>3254.50</td>\n",
       "      <td>41832.00</td>\n",
       "      <td>16780.62</td>\n",
       "      <td>58612.62</td>\n",
       "    </tr>\n",
       "    <tr>\n",
       "      <th>...</th>\n",
       "      <td>...</td>\n",
       "      <td>...</td>\n",
       "      <td>...</td>\n",
       "      <td>...</td>\n",
       "      <td>...</td>\n",
       "      <td>...</td>\n",
       "      <td>...</td>\n",
       "      <td>...</td>\n",
       "      <td>...</td>\n",
       "      <td>...</td>\n",
       "      <td>...</td>\n",
       "      <td>...</td>\n",
       "    </tr>\n",
       "    <tr>\n",
       "      <th>49995</th>\n",
       "      <td>Fiscal</td>\n",
       "      <td>2016</td>\n",
       "      <td>1629</td>\n",
       "      <td>100222.50</td>\n",
       "      <td>17166.13</td>\n",
       "      <td>600.00</td>\n",
       "      <td>18763.05</td>\n",
       "      <td>13068.80</td>\n",
       "      <td>9406.86</td>\n",
       "      <td>117988.63</td>\n",
       "      <td>41238.71</td>\n",
       "      <td>159227.34</td>\n",
       "    </tr>\n",
       "    <tr>\n",
       "      <th>49996</th>\n",
       "      <td>Fiscal</td>\n",
       "      <td>2014</td>\n",
       "      <td>35471</td>\n",
       "      <td>1787.41</td>\n",
       "      <td>0.00</td>\n",
       "      <td>0.00</td>\n",
       "      <td>0.00</td>\n",
       "      <td>563.31</td>\n",
       "      <td>145.36</td>\n",
       "      <td>1787.41</td>\n",
       "      <td>708.67</td>\n",
       "      <td>2496.08</td>\n",
       "    </tr>\n",
       "    <tr>\n",
       "      <th>49997</th>\n",
       "      <td>Fiscal</td>\n",
       "      <td>2016</td>\n",
       "      <td>42176</td>\n",
       "      <td>36552.83</td>\n",
       "      <td>0.00</td>\n",
       "      <td>0.00</td>\n",
       "      <td>6802.48</td>\n",
       "      <td>6855.83</td>\n",
       "      <td>3071.63</td>\n",
       "      <td>36552.83</td>\n",
       "      <td>16729.94</td>\n",
       "      <td>53282.77</td>\n",
       "    </tr>\n",
       "    <tr>\n",
       "      <th>49998</th>\n",
       "      <td>Fiscal</td>\n",
       "      <td>2016</td>\n",
       "      <td>10980</td>\n",
       "      <td>46995.30</td>\n",
       "      <td>0.00</td>\n",
       "      <td>10943.14</td>\n",
       "      <td>8840.98</td>\n",
       "      <td>10624.64</td>\n",
       "      <td>4706.37</td>\n",
       "      <td>57938.44</td>\n",
       "      <td>24171.99</td>\n",
       "      <td>82110.43</td>\n",
       "    </tr>\n",
       "    <tr>\n",
       "      <th>49999</th>\n",
       "      <td>Fiscal</td>\n",
       "      <td>2014</td>\n",
       "      <td>29083</td>\n",
       "      <td>69268.81</td>\n",
       "      <td>0.00</td>\n",
       "      <td>1648.09</td>\n",
       "      <td>15119.46</td>\n",
       "      <td>12464.61</td>\n",
       "      <td>5853.52</td>\n",
       "      <td>70916.90</td>\n",
       "      <td>33437.59</td>\n",
       "      <td>104354.49</td>\n",
       "    </tr>\n",
       "  </tbody>\n",
       "</table>\n",
       "<p>50000 rows × 12 columns</p>\n",
       "</div>"
      ],
      "text/plain": [
       "      Year_Type  Year  Employee_Id   Salaries  Overtime     Bonus  Retirement  \\\n",
       "0        Fiscal  2015        42853   92288.22    267.45    267.45    20700.20   \n",
       "1      Calendar  2015        28248    1466.38    348.23      0.00        0.00   \n",
       "2        Fiscal  2014        30651   76536.95  13583.72  10855.94    18632.19   \n",
       "3        Fiscal  2014        19473   45659.88      0.00   1625.37    10081.20   \n",
       "4        Fiscal  2013         7176   41832.00      0.00      0.00     7617.60   \n",
       "...         ...   ...          ...        ...       ...       ...         ...   \n",
       "49995    Fiscal  2016         1629  100222.50  17166.13    600.00    18763.05   \n",
       "49996    Fiscal  2014        35471    1787.41      0.00      0.00        0.00   \n",
       "49997    Fiscal  2016        42176   36552.83      0.00      0.00     6802.48   \n",
       "49998    Fiscal  2016        10980   46995.30      0.00  10943.14     8840.98   \n",
       "49999    Fiscal  2014        29083   69268.81      0.00   1648.09    15119.46   \n",
       "\n",
       "       Health/Dental  Other_Benefits  Total_Salaries  Total_Benefits  \\\n",
       "0           12500.56         7605.75        92823.12        40806.51   \n",
       "1             442.03          141.59         1814.61          583.62   \n",
       "2           12464.61         8011.41       100976.61        39108.21   \n",
       "3               0.00         3936.63        47285.25        14017.83   \n",
       "4            5908.52         3254.50        41832.00        16780.62   \n",
       "...              ...             ...             ...             ...   \n",
       "49995       13068.80         9406.86       117988.63        41238.71   \n",
       "49996         563.31          145.36         1787.41          708.67   \n",
       "49997        6855.83         3071.63        36552.83        16729.94   \n",
       "49998       10624.64         4706.37        57938.44        24171.99   \n",
       "49999       12464.61         5853.52        70916.90        33437.59   \n",
       "\n",
       "       Total_Compensation  \n",
       "0               133629.63  \n",
       "1                 2398.23  \n",
       "2               140084.82  \n",
       "3                61303.08  \n",
       "4                58612.62  \n",
       "...                   ...  \n",
       "49995           159227.34  \n",
       "49996             2496.08  \n",
       "49997            53282.77  \n",
       "49998            82110.43  \n",
       "49999           104354.49  \n",
       "\n",
       "[50000 rows x 12 columns]"
      ]
     },
     "execution_count": 7,
     "metadata": {},
     "output_type": "execute_result"
    }
   ],
   "source": [
    "pro"
   ]
  },
  {
   "cell_type": "code",
   "execution_count": 8,
   "id": "d16c35a9-540e-47ea-bacf-cb9549413650",
   "metadata": {},
   "outputs": [],
   "source": [
    "#correlation analysis"
   ]
  },
  {
   "cell_type": "code",
   "execution_count": 9,
   "id": "e7236019-da99-421a-97e1-5f3f3355cd6e",
   "metadata": {},
   "outputs": [],
   "source": [
    "import seaborn as sns\n",
    "import matplotlib.pyplot as plt"
   ]
  },
  {
   "cell_type": "code",
   "execution_count": 10,
   "id": "26b543cd-15f1-4474-83d8-53f06dfe2681",
   "metadata": {},
   "outputs": [],
   "source": [
    "pro=pro.drop(columns=['Year_Type'])"
   ]
  },
  {
   "cell_type": "code",
   "execution_count": 11,
   "id": "8037fe52-69c2-45bf-9f53-609d29945233",
   "metadata": {},
   "outputs": [],
   "source": [
    "proj=pro[['Employee_Id','Total_Salaries','Total_Benefits','Total_Compensation']].iloc[0:10]"
   ]
  },
  {
   "cell_type": "code",
   "execution_count": 12,
   "id": "1c245dd9-a48e-487c-a36a-0d7b7757daed",
   "metadata": {},
   "outputs": [],
   "source": [
    "corr_matrix = proj.corr()"
   ]
  },
  {
   "cell_type": "code",
   "execution_count": 13,
   "id": "a9df8054-be0c-4e78-9cb0-8d133fe1a67c",
   "metadata": {},
   "outputs": [
    {
     "data": {
      "image/png": "[encoded data removed]",
      "text/plain": [
       "<Figure size 600x400 with 2 Axes>"
      ]
     },
     "metadata": {},
     "output_type": "display_data"
    }
   ],
   "source": [
    "plt.figure(figsize=(6,4))\n",
    "sns.heatmap(corr_matrix,annot=True,\n",
    "cmap='coolwarm',linewidths=0.5)\n",
    "plt.show()"
   ]
  },
  {
   "cell_type": "code",
   "execution_count": 14,
   "id": "fb0e6ed5-3c01-4fc5-a3e5-1dce3c6a39fe",
   "metadata": {},
   "outputs": [],
   "source": [
    "#sort and filter operations"
   ]
  },
  {
   "cell_type": "code",
   "execution_count": 15,
   "id": "b6d1fa73-1860-47fc-ae22-7b5f4336deca",
   "metadata": {},
   "outputs": [],
   "source": [
    "#sort by salary and filter by year\n",
    "#sort by salary in descending order\n",
    "Sorted_by_Salary = pro.sort_values(by='Salaries',ascending=False)\n",
    "#filter by year '2015'\n",
    "Filtered_Year_2014=[Sorted_by_Salary['Year']=='2014']"
   ]
  },
  {
   "cell_type": "code",
   "execution_count": 16,
   "id": "b9ba68cc-631e-44b1-91c0-a0031c687278",
   "metadata": {},
   "outputs": [],
   "source": [
    "#Sorted_by_Salary\n",
    "#Filtered_Year_2014"
   ]
  },
  {
   "cell_type": "code",
   "execution_count": 17,
   "id": "945ef56c-4db1-418d-8b2c-79d555adb96c",
   "metadata": {},
   "outputs": [],
   "source": [
    "#sort by Employeeid and filter by salary range\n",
    "#sort by Employeeid in ascending order\n",
    "Sorted_by_EmployeeID = pro.sort_values(by='Employee_Id',ascending=True)\n",
    "#filter by salary between 50000 and 100000\n",
    "Filtered_Salary_Range=[(Sorted_by_EmployeeID['Salaries']>=50000) & (Sorted_by_EmployeeID['Salaries']<=100000)]"
   ]
  },
  {
   "cell_type": "code",
   "execution_count": 18,
   "id": "1bcc6a62-894a-411f-82e0-ae2d255225bc",
   "metadata": {},
   "outputs": [],
   "source": [
    "#Sorted_by_EmployeeID\n",
    "#Filtered_Salary_Range"
   ]
  },
  {
   "cell_type": "code",
   "execution_count": null,
   "id": "917cf6c9-2d4a-444b-903f-01e20c7ec172",
   "metadata": {},
   "outputs": [],
   "source": [
    "#sort by salary and filter by year\n",
    "#sort by salary in descending order\n",
    "Sorted_by_Salary = pro.sort_values(by='Salaries',ascending=False)\n",
    "#filter by year '2015'\n",
    "Filtered_Year_2014=[Sorted_by_Salary['Year']=='2014']"
   ]
  },
  {
   "cell_type": "code",
   "execution_count": 20,
   "id": "4c4e0cc5-8369-4576-b40f-d45d80c92667",
   "metadata": {},
   "outputs": [
    {
     "data": {
      "text/html": [
       "<div>\n",
       "<style scoped>\n",
       "    .dataframe tbody tr th:only-of-type {\n",
       "        vertical-align: middle;\n",
       "    }\n",
       "\n",
       "    .dataframe tbody tr th {\n",
       "        vertical-align: top;\n",
       "    }\n",
       "\n",
       "    .dataframe thead th {\n",
       "        text-align: right;\n",
       "    }\n",
       "</style>\n",
       "<table border=\"1\" class=\"dataframe\">\n",
       "  <thead>\n",
       "    <tr style=\"text-align: right;\">\n",
       "      <th></th>\n",
       "      <th>Year</th>\n",
       "      <th>Employee_Id</th>\n",
       "      <th>Salaries</th>\n",
       "      <th>Overtime</th>\n",
       "      <th>Bonus</th>\n",
       "      <th>Retirement</th>\n",
       "      <th>Health/Dental</th>\n",
       "      <th>Other_Benefits</th>\n",
       "      <th>Total_Salaries</th>\n",
       "      <th>Total_Benefits</th>\n",
       "      <th>Total_Compensation</th>\n",
       "    </tr>\n",
       "  </thead>\n",
       "  <tbody>\n",
       "    <tr>\n",
       "      <th>0</th>\n",
       "      <td>2015</td>\n",
       "      <td>42853</td>\n",
       "      <td>92288.22</td>\n",
       "      <td>267.45</td>\n",
       "      <td>267.45</td>\n",
       "      <td>20700.20</td>\n",
       "      <td>12500.56</td>\n",
       "      <td>7605.75</td>\n",
       "      <td>92823.12</td>\n",
       "      <td>40806.51</td>\n",
       "      <td>133629.63</td>\n",
       "    </tr>\n",
       "    <tr>\n",
       "      <th>1</th>\n",
       "      <td>2015</td>\n",
       "      <td>28248</td>\n",
       "      <td>1466.38</td>\n",
       "      <td>348.23</td>\n",
       "      <td>0.00</td>\n",
       "      <td>0.00</td>\n",
       "      <td>442.03</td>\n",
       "      <td>141.59</td>\n",
       "      <td>1814.61</td>\n",
       "      <td>583.62</td>\n",
       "      <td>2398.23</td>\n",
       "    </tr>\n",
       "    <tr>\n",
       "      <th>2</th>\n",
       "      <td>2014</td>\n",
       "      <td>30651</td>\n",
       "      <td>76536.95</td>\n",
       "      <td>13583.72</td>\n",
       "      <td>10855.94</td>\n",
       "      <td>18632.19</td>\n",
       "      <td>12464.61</td>\n",
       "      <td>8011.41</td>\n",
       "      <td>100976.61</td>\n",
       "      <td>39108.21</td>\n",
       "      <td>140084.82</td>\n",
       "    </tr>\n",
       "    <tr>\n",
       "      <th>3</th>\n",
       "      <td>2014</td>\n",
       "      <td>19473</td>\n",
       "      <td>45659.88</td>\n",
       "      <td>0.00</td>\n",
       "      <td>1625.37</td>\n",
       "      <td>10081.20</td>\n",
       "      <td>0.00</td>\n",
       "      <td>3936.63</td>\n",
       "      <td>47285.25</td>\n",
       "      <td>14017.83</td>\n",
       "      <td>61303.08</td>\n",
       "    </tr>\n",
       "    <tr>\n",
       "      <th>4</th>\n",
       "      <td>2013</td>\n",
       "      <td>7176</td>\n",
       "      <td>41832.00</td>\n",
       "      <td>0.00</td>\n",
       "      <td>0.00</td>\n",
       "      <td>7617.60</td>\n",
       "      <td>5908.52</td>\n",
       "      <td>3254.50</td>\n",
       "      <td>41832.00</td>\n",
       "      <td>16780.62</td>\n",
       "      <td>58612.62</td>\n",
       "    </tr>\n",
       "    <tr>\n",
       "      <th>...</th>\n",
       "      <td>...</td>\n",
       "      <td>...</td>\n",
       "      <td>...</td>\n",
       "      <td>...</td>\n",
       "      <td>...</td>\n",
       "      <td>...</td>\n",
       "      <td>...</td>\n",
       "      <td>...</td>\n",
       "      <td>...</td>\n",
       "      <td>...</td>\n",
       "      <td>...</td>\n",
       "    </tr>\n",
       "    <tr>\n",
       "      <th>49995</th>\n",
       "      <td>2016</td>\n",
       "      <td>1629</td>\n",
       "      <td>100222.50</td>\n",
       "      <td>17166.13</td>\n",
       "      <td>600.00</td>\n",
       "      <td>18763.05</td>\n",
       "      <td>13068.80</td>\n",
       "      <td>9406.86</td>\n",
       "      <td>117988.63</td>\n",
       "      <td>41238.71</td>\n",
       "      <td>159227.34</td>\n",
       "    </tr>\n",
       "    <tr>\n",
       "      <th>49996</th>\n",
       "      <td>2014</td>\n",
       "      <td>35471</td>\n",
       "      <td>1787.41</td>\n",
       "      <td>0.00</td>\n",
       "      <td>0.00</td>\n",
       "      <td>0.00</td>\n",
       "      <td>563.31</td>\n",
       "      <td>145.36</td>\n",
       "      <td>1787.41</td>\n",
       "      <td>708.67</td>\n",
       "      <td>2496.08</td>\n",
       "    </tr>\n",
       "    <tr>\n",
       "      <th>49997</th>\n",
       "      <td>2016</td>\n",
       "      <td>42176</td>\n",
       "      <td>36552.83</td>\n",
       "      <td>0.00</td>\n",
       "      <td>0.00</td>\n",
       "      <td>6802.48</td>\n",
       "      <td>6855.83</td>\n",
       "      <td>3071.63</td>\n",
       "      <td>36552.83</td>\n",
       "      <td>16729.94</td>\n",
       "      <td>53282.77</td>\n",
       "    </tr>\n",
       "    <tr>\n",
       "      <th>49998</th>\n",
       "      <td>2016</td>\n",
       "      <td>10980</td>\n",
       "      <td>46995.30</td>\n",
       "      <td>0.00</td>\n",
       "      <td>10943.14</td>\n",
       "      <td>8840.98</td>\n",
       "      <td>10624.64</td>\n",
       "      <td>4706.37</td>\n",
       "      <td>57938.44</td>\n",
       "      <td>24171.99</td>\n",
       "      <td>82110.43</td>\n",
       "    </tr>\n",
       "    <tr>\n",
       "      <th>49999</th>\n",
       "      <td>2014</td>\n",
       "      <td>29083</td>\n",
       "      <td>69268.81</td>\n",
       "      <td>0.00</td>\n",
       "      <td>1648.09</td>\n",
       "      <td>15119.46</td>\n",
       "      <td>12464.61</td>\n",
       "      <td>5853.52</td>\n",
       "      <td>70916.90</td>\n",
       "      <td>33437.59</td>\n",
       "      <td>104354.49</td>\n",
       "    </tr>\n",
       "  </tbody>\n",
       "</table>\n",
       "<p>50000 rows × 11 columns</p>\n",
       "</div>"
      ],
      "text/plain": [
       "       Year  Employee_Id   Salaries  Overtime     Bonus  Retirement  \\\n",
       "0      2015        42853   92288.22    267.45    267.45    20700.20   \n",
       "1      2015        28248    1466.38    348.23      0.00        0.00   \n",
       "2      2014        30651   76536.95  13583.72  10855.94    18632.19   \n",
       "3      2014        19473   45659.88      0.00   1625.37    10081.20   \n",
       "4      2013         7176   41832.00      0.00      0.00     7617.60   \n",
       "...     ...          ...        ...       ...       ...         ...   \n",
       "49995  2016         1629  100222.50  17166.13    600.00    18763.05   \n",
       "49996  2014        35471    1787.41      0.00      0.00        0.00   \n",
       "49997  2016        42176   36552.83      0.00      0.00     6802.48   \n",
       "49998  2016        10980   46995.30      0.00  10943.14     8840.98   \n",
       "49999  2014        29083   69268.81      0.00   1648.09    15119.46   \n",
       "\n",
       "       Health/Dental  Other_Benefits  Total_Salaries  Total_Benefits  \\\n",
       "0           12500.56         7605.75        92823.12        40806.51   \n",
       "1             442.03          141.59         1814.61          583.62   \n",
       "2           12464.61         8011.41       100976.61        39108.21   \n",
       "3               0.00         3936.63        47285.25        14017.83   \n",
       "4            5908.52         3254.50        41832.00        16780.62   \n",
       "...              ...             ...             ...             ...   \n",
       "49995       13068.80         9406.86       117988.63        41238.71   \n",
       "49996         563.31          145.36         1787.41          708.67   \n",
       "49997        6855.83         3071.63        36552.83        16729.94   \n",
       "49998       10624.64         4706.37        57938.44        24171.99   \n",
       "49999       12464.61         5853.52        70916.90        33437.59   \n",
       "\n",
       "       Total_Compensation  \n",
       "0               133629.63  \n",
       "1                 2398.23  \n",
       "2               140084.82  \n",
       "3                61303.08  \n",
       "4                58612.62  \n",
       "...                   ...  \n",
       "49995           159227.34  \n",
       "49996             2496.08  \n",
       "49997            53282.77  \n",
       "49998            82110.43  \n",
       "49999           104354.49  \n",
       "\n",
       "[50000 rows x 11 columns]"
      ]
     },
     "execution_count": 20,
     "metadata": {},
     "output_type": "execute_result"
    }
   ],
   "source": [
    "pro"
   ]
  },
  {
   "cell_type": "code",
   "execution_count": 77,
   "id": "4a65808e-6ddf-49f8-9acb-9f1da2889794",
   "metadata": {},
   "outputs": [],
   "source": [
    "prop=pd.read_csv('Project_Employee.csv')"
   ]
  },
  {
   "cell_type": "code",
   "execution_count": 80,
   "id": "d63f04ca-30f7-48e3-a1ad-950657f53099",
   "metadata": {},
   "outputs": [],
   "source": [
    "#filter Rows by Column value\n",
    "#\n",
    "filtered_prop=prop[prop['Year']==2015]"
   ]
  },
  {
   "cell_type": "code",
   "execution_count": 85,
   "id": "28c3288d-afa9-47b4-bd80-655841d4e8b6",
   "metadata": {},
   "outputs": [],
   "source": [
    "#filter Rows by Multiple Conditions\n",
    "#select rows where the year is above 2015 and year_type is fiscal\n",
    "filtered_prop1=prop[(prop['Year']>2015)&(prop['Year_Type']=='Fiscal')]"
   ]
  },
  {
   "cell_type": "code",
   "execution_count": 87,
   "id": "9ad82775-f4fa-4222-8e7e-6519f29feda0",
   "metadata": {},
   "outputs": [],
   "source": [
    "#filter Rows by index Labels\n",
    "#select rows with index labels 0,1 and 2\n",
    "filtered_prop2=prop.loc[[0,1,2]]"
   ]
  },
  {
   "cell_type": "code",
   "execution_count": 89,
   "id": "81de8e0f-5723-41fe-aa5f-11185f85156b",
   "metadata": {},
   "outputs": [],
   "source": [
    "#filter columns by index position\n",
    "#select the first two columns\n",
    "filtered_prop3=prop.iloc[:,:2]"
   ]
  },
  {
   "cell_type": "code",
   "execution_count": 92,
   "id": "894d384e-4845-411a-af57-f0e8f4098b86",
   "metadata": {},
   "outputs": [],
   "source": [
    "#filter rows by index range\n",
    "#Select rows with index positions from 0 to 4 (inlusive)\n",
    "filtered_prop4=prop.iloc[0:5]"
   ]
  },
  {
   "cell_type": "code",
   "execution_count": 103,
   "id": "13bbc40d-a4d7-4850-8aac-19ec210d9b4f",
   "metadata": {},
   "outputs": [],
   "source": [
    "#filter rows using the isin method\n",
    "#select rows where 'Year' is either '2015' or '2016'\n",
    "filtered_prop5=prop[prop['Year'].isin(['2015','2014'])]"
   ]
  },
  {
   "cell_type": "code",
   "execution_count": 106,
   "id": "ce2a0c97-4db9-46c9-ab38-63b1b7252120",
   "metadata": {},
   "outputs": [],
   "source": [
    "#filter rows by checking for Null Values\n",
    "#select rows where the column 'salary' is not null\n",
    "filtered_prop6 = prop[prop['Salaries'].notnull()] "
   ]
  },
  {
   "cell_type": "code",
   "execution_count": 107,
   "id": "4baddd11-1879-4166-b1ef-2ad260c64a43",
   "metadata": {},
   "outputs": [
    {
     "name": "stdout",
     "output_type": "stream",
     "text": [
      "      Year_Type  Year  Employee_Id   Salaries  Overtime     Bonus  Retirement  \\\n",
      "0        Fiscal  2015        42853   92288.22    267.45    267.45    20700.20   \n",
      "1      Calendar  2015        28248    1466.38    348.23      0.00        0.00   \n",
      "2        Fiscal  2014        30651   76536.95  13583.72  10855.94    18632.19   \n",
      "3        Fiscal  2014        19473   45659.88      0.00   1625.37    10081.20   \n",
      "4        Fiscal  2013         7176   41832.00      0.00      0.00     7617.60   \n",
      "...         ...   ...          ...        ...       ...       ...         ...   \n",
      "49995    Fiscal  2016         1629  100222.50  17166.13    600.00    18763.05   \n",
      "49996    Fiscal  2014        35471    1787.41      0.00      0.00        0.00   \n",
      "49997    Fiscal  2016        42176   36552.83      0.00      0.00     6802.48   \n",
      "49998    Fiscal  2016        10980   46995.30      0.00  10943.14     8840.98   \n",
      "49999    Fiscal  2014        29083   69268.81      0.00   1648.09    15119.46   \n",
      "\n",
      "       Health/Dental  Other_Benefits  \n",
      "0           12500.56         7605.75  \n",
      "1             442.03          141.59  \n",
      "2           12464.61         8011.41  \n",
      "3               0.00         3936.63  \n",
      "4            5908.52         3254.50  \n",
      "...              ...             ...  \n",
      "49995       13068.80         9406.86  \n",
      "49996         563.31          145.36  \n",
      "49997        6855.83         3071.63  \n",
      "49998       10624.64         4706.37  \n",
      "49999       12464.61         5853.52  \n",
      "\n",
      "[50000 rows x 9 columns]\n"
     ]
    }
   ],
   "source": [
    "print(filtered_prop6)"
   ]
  },
  {
   "cell_type": "code",
   "execution_count": 108,
   "id": "9572a258-be0b-487f-a7e9-32e689fa7808",
   "metadata": {},
   "outputs": [],
   "source": [
    "import random"
   ]
  },
  {
   "cell_type": "code",
   "execution_count": 109,
   "id": "c38db3cc-d756-46b7-ba49-995a6624304a",
   "metadata": {},
   "outputs": [],
   "source": [
    "prop['Age']=np.random.randint(20 and 60)"
   ]
  },
  {
   "cell_type": "code",
   "execution_count": 145,
   "id": "5f003b12-fdeb-4e3d-876e-fb8c9780be88",
   "metadata": {},
   "outputs": [],
   "source": [
    "#cities= ['New York', 'Los Angeles', 'Chicago', 'Houston', 'Phoenix']\n",
    "department=['Hr','Finance','Engineering','Marketing','IT']\n",
    "prop['Department']=[random.choice(department) for _ in range(prop.shape[0])]\n",
    "prop['City']=[random.choice(cities)for _ in range(prop.shape[0])]"
   ]
  },
  {
   "cell_type": "code",
   "execution_count": 146,
   "id": "5f9ded86-4840-42ba-a3c5-94adcc782c79",
   "metadata": {},
   "outputs": [],
   "source": [
    "prop['Experience_years']=np.random.randint(0,41,prop.shape[0])\n",
    "prop['Performance_Score']=np.random.randint(70,100, prop.shape[0])"
   ]
  },
  {
   "cell_type": "code",
   "execution_count": 114,
   "id": "2216ac8b-c5de-4fe7-b13c-a7451c7ac9b7",
   "metadata": {},
   "outputs": [],
   "source": [
    "#Dashboard with 6 visiuals"
   ]
  },
  {
   "cell_type": "code",
   "execution_count": 115,
   "id": "d18b7f23-b19a-4ec4-abe3-de5fe7ff2cb9",
   "metadata": {},
   "outputs": [
    {
     "name": "stderr",
     "output_type": "stream",
     "text": [
      "C:\\Users\\HP\\anaconda3\\Lib\\site-packages\\seaborn\\_oldcore.py:1119: FutureWarning: use_inf_as_na option is deprecated and will be removed in a future version. Convert inf values to NaN before operating instead.\n",
      "  with pd.option_context('mode.use_inf_as_na', True):\n"
     ]
    },
    {
     "data": {
      "text/plain": [
       "Text(0.5, 1.0, 'Distribution of Ages')"
      ]
     },
     "execution_count": 115,
     "metadata": {},
     "output_type": "execute_result"
    },
    {
     "data": {
      "image/png": "[encoded data removed]",
      "text/plain": [
       "<Figure size 640x480 with 1 Axes>"
      ]
     },
     "metadata": {},
     "output_type": "display_data"
    }
   ],
   "source": [
    "#1.Histogram of Ages\n",
    "plt.subplot(2,3,1)\n",
    "sns.histplot(prop['Age'],bins=10,kde=True)\n",
    "plt.title('Distribution of Ages')"
   ]
  },
  {
   "cell_type": "code",
   "execution_count": 130,
   "id": "80b2f1b4-0a71-483d-b065-884c299aec83",
   "metadata": {},
   "outputs": [
    {
     "data": {
      "text/plain": [
       "<Axes: xlabel='Department', ylabel='Salaries'>"
      ]
     },
     "execution_count": 130,
     "metadata": {},
     "output_type": "execute_result"
    },
    {
     "data": {
      "image/png": "[encoded data removed]",
      "text/plain": [
       "<Figure size 640x480 with 1 Axes>"
      ]
     },
     "metadata": {},
     "output_type": "display_data"
    }
   ],
   "source": [
    "#2.Boxplot of salaries by department\n",
    "plt.subplot(2,3,2)\n",
    "sns.boxplot(x='Department',y='Salaries', data=prop)"
   ]
  },
  {
   "cell_type": "code",
   "execution_count": 134,
   "id": "bfd5ab41-27a4-489c-8373-1ce4454302d8",
   "metadata": {},
   "outputs": [
    {
     "data": {
      "text/plain": [
       "<Axes: xlabel='City', ylabel='Performance_Score'>"
      ]
     },
     "execution_count": 134,
     "metadata": {},
     "output_type": "execute_result"
    },
    {
     "data": {
      "image/png": "[encoded data removed]",
      "text/plain": [
       "<Figure size 640x480 with 1 Axes>"
      ]
     },
     "metadata": {},
     "output_type": "display_data"
    }
   ],
   "source": [
    "#3 Bar plot of Average performance Score by city plt.subplot(2,3,3)\n",
    "sns.barplot(x='City', y='Performance_Score', data=prop,estimator=lambda x:sum(x)/len(x))"
   ]
  },
  {
   "cell_type": "code",
   "execution_count": 151,
   "id": "3519b69d-89ad-41a8-9f20-ed0a4d55d950",
   "metadata": {},
   "outputs": [
    {
     "ename": "AttributeError",
     "evalue": "module 'matplotlib.pyplot' has no attribute 'tittle'",
     "output_type": "error",
     "traceback": [
      "\u001b[1;31m---------------------------------------------------------------------------\u001b[0m",
      "\u001b[1;31mAttributeError\u001b[0m                            Traceback (most recent call last)",
      "Cell \u001b[1;32mIn[151], line 4\u001b[0m\n\u001b[0;32m      2\u001b[0m plt\u001b[38;5;241m.\u001b[39mfigure(figsize\u001b[38;5;241m=\u001b[39m(\u001b[38;5;241m8\u001b[39m,\u001b[38;5;241m8\u001b[39m))\n\u001b[0;32m      3\u001b[0m plt\u001b[38;5;241m.\u001b[39mpie(department_counts,labels\u001b[38;5;241m=\u001b[39mdepartment_counts\u001b[38;5;241m.\u001b[39mindex,autopct\u001b[38;5;241m=\u001b[39m\u001b[38;5;124m'\u001b[39m\u001b[38;5;132;01m%1.1f\u001b[39;00m\u001b[38;5;132;01m%%\u001b[39;00m\u001b[38;5;124m'\u001b[39m,startangle\u001b[38;5;241m=\u001b[39m\u001b[38;5;241m140\u001b[39m)\n\u001b[1;32m----> 4\u001b[0m plt\u001b[38;5;241m.\u001b[39mtittle(\u001b[38;5;124m'\u001b[39m\u001b[38;5;124mDistribution of Employees by Department\u001b[39m\u001b[38;5;124m'\u001b[39m)\n\u001b[0;32m      5\u001b[0m plt\u001b[38;5;241m.\u001b[39mshow()\n",
      "\u001b[1;31mAttributeError\u001b[0m: module 'matplotlib.pyplot' has no attribute 'tittle'"
     ]
    },
    {
     "data": {
      "image/png": "[encoded data removed]",
      "text/plain": [
       "<Figure size 800x800 with 1 Axes>"
      ]
     },
     "metadata": {},
     "output_type": "display_data"
    }
   ],
   "source": [
    "#Pie Chart of Employee Distribution by Department\n",
    "plt.figure(figsize=(8,8))\n",
    "plt.pie(department_counts,labels=department_counts.index,autopct='%1.1f%%',startangle=140)\n",
    "plt.tittle('Distribution of Employees by Department')\n",
    "plt.show()"
   ]
  },
  {
   "cell_type": "code",
   "execution_count": 153,
   "id": "bdb551ee-a9af-4925-89e5-1210d9dfe008",
   "metadata": {},
   "outputs": [
    {
     "name": "stderr",
     "output_type": "stream",
     "text": [
      "C:\\Users\\HP\\anaconda3\\Lib\\site-packages\\seaborn\\_oldcore.py:1119: FutureWarning: use_inf_as_na option is deprecated and will be removed in a future version. Convert inf values to NaN before operating instead.\n",
      "  with pd.option_context('mode.use_inf_as_na', True):\n",
      "C:\\Users\\HP\\anaconda3\\Lib\\site-packages\\seaborn\\_oldcore.py:1119: FutureWarning: use_inf_as_na option is deprecated and will be removed in a future version. Convert inf values to NaN before operating instead.\n",
      "  with pd.option_context('mode.use_inf_as_na', True):\n"
     ]
    },
    {
     "data": {
      "image/png": "[encoded data removed]",
      "text/plain": [
       "<Figure size 640x480 with 1 Axes>"
      ]
     },
     "metadata": {},
     "output_type": "display_data"
    }
   ],
   "source": [
    "#6 Line plot of performance score trend by Age\n",
    "plt.subplot(2,3,6)\n",
    "sns.lineplot(x='Age',y='Performance_Score',data=prop.sort_values('Age'))\n",
    "#Adjust layout for better visualization\n",
    "plt.tight_layout()\n",
    "plt.show()"
   ]
  },
  {
   "cell_type": "code",
   "execution_count": 154,
   "id": "5c87dd1a-5d2d-4b5a-b260-db745935327c",
   "metadata": {},
   "outputs": [
    {
     "data": {
      "text/html": [
       "<div>\n",
       "<style scoped>\n",
       "    .dataframe tbody tr th:only-of-type {\n",
       "        vertical-align: middle;\n",
       "    }\n",
       "\n",
       "    .dataframe tbody tr th {\n",
       "        vertical-align: top;\n",
       "    }\n",
       "\n",
       "    .dataframe thead th {\n",
       "        text-align: right;\n",
       "    }\n",
       "</style>\n",
       "<table border=\"1\" class=\"dataframe\">\n",
       "  <thead>\n",
       "    <tr style=\"text-align: right;\">\n",
       "      <th></th>\n",
       "      <th>Year_Type</th>\n",
       "      <th>Year</th>\n",
       "      <th>Employee_Id</th>\n",
       "      <th>Salaries</th>\n",
       "      <th>Overtime</th>\n",
       "      <th>Bonus</th>\n",
       "      <th>Retirement</th>\n",
       "      <th>Health/Dental</th>\n",
       "      <th>Other_Benefits</th>\n",
       "      <th>Age</th>\n",
       "      <th>City</th>\n",
       "      <th>Experience_years</th>\n",
       "      <th>Department</th>\n",
       "      <th>Performance_Score</th>\n",
       "    </tr>\n",
       "  </thead>\n",
       "  <tbody>\n",
       "    <tr>\n",
       "      <th>0</th>\n",
       "      <td>Fiscal</td>\n",
       "      <td>2015</td>\n",
       "      <td>42853</td>\n",
       "      <td>92288.22</td>\n",
       "      <td>267.45</td>\n",
       "      <td>267.45</td>\n",
       "      <td>20700.20</td>\n",
       "      <td>12500.56</td>\n",
       "      <td>7605.75</td>\n",
       "      <td>57</td>\n",
       "      <td>New York</td>\n",
       "      <td>14</td>\n",
       "      <td>Engineering</td>\n",
       "      <td>77</td>\n",
       "    </tr>\n",
       "    <tr>\n",
       "      <th>1</th>\n",
       "      <td>Calendar</td>\n",
       "      <td>2015</td>\n",
       "      <td>28248</td>\n",
       "      <td>1466.38</td>\n",
       "      <td>348.23</td>\n",
       "      <td>0.00</td>\n",
       "      <td>0.00</td>\n",
       "      <td>442.03</td>\n",
       "      <td>141.59</td>\n",
       "      <td>57</td>\n",
       "      <td>New York</td>\n",
       "      <td>40</td>\n",
       "      <td>Engineering</td>\n",
       "      <td>92</td>\n",
       "    </tr>\n",
       "    <tr>\n",
       "      <th>2</th>\n",
       "      <td>Fiscal</td>\n",
       "      <td>2014</td>\n",
       "      <td>30651</td>\n",
       "      <td>76536.95</td>\n",
       "      <td>13583.72</td>\n",
       "      <td>10855.94</td>\n",
       "      <td>18632.19</td>\n",
       "      <td>12464.61</td>\n",
       "      <td>8011.41</td>\n",
       "      <td>57</td>\n",
       "      <td>Los Angeles</td>\n",
       "      <td>6</td>\n",
       "      <td>Hr</td>\n",
       "      <td>97</td>\n",
       "    </tr>\n",
       "    <tr>\n",
       "      <th>3</th>\n",
       "      <td>Fiscal</td>\n",
       "      <td>2014</td>\n",
       "      <td>19473</td>\n",
       "      <td>45659.88</td>\n",
       "      <td>0.00</td>\n",
       "      <td>1625.37</td>\n",
       "      <td>10081.20</td>\n",
       "      <td>0.00</td>\n",
       "      <td>3936.63</td>\n",
       "      <td>57</td>\n",
       "      <td>Houston</td>\n",
       "      <td>11</td>\n",
       "      <td>Marketing</td>\n",
       "      <td>98</td>\n",
       "    </tr>\n",
       "    <tr>\n",
       "      <th>4</th>\n",
       "      <td>Fiscal</td>\n",
       "      <td>2013</td>\n",
       "      <td>7176</td>\n",
       "      <td>41832.00</td>\n",
       "      <td>0.00</td>\n",
       "      <td>0.00</td>\n",
       "      <td>7617.60</td>\n",
       "      <td>5908.52</td>\n",
       "      <td>3254.50</td>\n",
       "      <td>57</td>\n",
       "      <td>Los Angeles</td>\n",
       "      <td>11</td>\n",
       "      <td>Marketing</td>\n",
       "      <td>96</td>\n",
       "    </tr>\n",
       "    <tr>\n",
       "      <th>...</th>\n",
       "      <td>...</td>\n",
       "      <td>...</td>\n",
       "      <td>...</td>\n",
       "      <td>...</td>\n",
       "      <td>...</td>\n",
       "      <td>...</td>\n",
       "      <td>...</td>\n",
       "      <td>...</td>\n",
       "      <td>...</td>\n",
       "      <td>...</td>\n",
       "      <td>...</td>\n",
       "      <td>...</td>\n",
       "      <td>...</td>\n",
       "      <td>...</td>\n",
       "    </tr>\n",
       "    <tr>\n",
       "      <th>49995</th>\n",
       "      <td>Fiscal</td>\n",
       "      <td>2016</td>\n",
       "      <td>1629</td>\n",
       "      <td>100222.50</td>\n",
       "      <td>17166.13</td>\n",
       "      <td>600.00</td>\n",
       "      <td>18763.05</td>\n",
       "      <td>13068.80</td>\n",
       "      <td>9406.86</td>\n",
       "      <td>57</td>\n",
       "      <td>New York</td>\n",
       "      <td>12</td>\n",
       "      <td>Marketing</td>\n",
       "      <td>72</td>\n",
       "    </tr>\n",
       "    <tr>\n",
       "      <th>49996</th>\n",
       "      <td>Fiscal</td>\n",
       "      <td>2014</td>\n",
       "      <td>35471</td>\n",
       "      <td>1787.41</td>\n",
       "      <td>0.00</td>\n",
       "      <td>0.00</td>\n",
       "      <td>0.00</td>\n",
       "      <td>563.31</td>\n",
       "      <td>145.36</td>\n",
       "      <td>57</td>\n",
       "      <td>Los Angeles</td>\n",
       "      <td>11</td>\n",
       "      <td>Hr</td>\n",
       "      <td>77</td>\n",
       "    </tr>\n",
       "    <tr>\n",
       "      <th>49997</th>\n",
       "      <td>Fiscal</td>\n",
       "      <td>2016</td>\n",
       "      <td>42176</td>\n",
       "      <td>36552.83</td>\n",
       "      <td>0.00</td>\n",
       "      <td>0.00</td>\n",
       "      <td>6802.48</td>\n",
       "      <td>6855.83</td>\n",
       "      <td>3071.63</td>\n",
       "      <td>57</td>\n",
       "      <td>Houston</td>\n",
       "      <td>31</td>\n",
       "      <td>IT</td>\n",
       "      <td>88</td>\n",
       "    </tr>\n",
       "    <tr>\n",
       "      <th>49998</th>\n",
       "      <td>Fiscal</td>\n",
       "      <td>2016</td>\n",
       "      <td>10980</td>\n",
       "      <td>46995.30</td>\n",
       "      <td>0.00</td>\n",
       "      <td>10943.14</td>\n",
       "      <td>8840.98</td>\n",
       "      <td>10624.64</td>\n",
       "      <td>4706.37</td>\n",
       "      <td>57</td>\n",
       "      <td>Los Angeles</td>\n",
       "      <td>21</td>\n",
       "      <td>Hr</td>\n",
       "      <td>72</td>\n",
       "    </tr>\n",
       "    <tr>\n",
       "      <th>49999</th>\n",
       "      <td>Fiscal</td>\n",
       "      <td>2014</td>\n",
       "      <td>29083</td>\n",
       "      <td>69268.81</td>\n",
       "      <td>0.00</td>\n",
       "      <td>1648.09</td>\n",
       "      <td>15119.46</td>\n",
       "      <td>12464.61</td>\n",
       "      <td>5853.52</td>\n",
       "      <td>57</td>\n",
       "      <td>Los Angeles</td>\n",
       "      <td>39</td>\n",
       "      <td>Marketing</td>\n",
       "      <td>84</td>\n",
       "    </tr>\n",
       "  </tbody>\n",
       "</table>\n",
       "<p>50000 rows × 14 columns</p>\n",
       "</div>"
      ],
      "text/plain": [
       "      Year_Type  Year  Employee_Id   Salaries  Overtime     Bonus  Retirement  \\\n",
       "0        Fiscal  2015        42853   92288.22    267.45    267.45    20700.20   \n",
       "1      Calendar  2015        28248    1466.38    348.23      0.00        0.00   \n",
       "2        Fiscal  2014        30651   76536.95  13583.72  10855.94    18632.19   \n",
       "3        Fiscal  2014        19473   45659.88      0.00   1625.37    10081.20   \n",
       "4        Fiscal  2013         7176   41832.00      0.00      0.00     7617.60   \n",
       "...         ...   ...          ...        ...       ...       ...         ...   \n",
       "49995    Fiscal  2016         1629  100222.50  17166.13    600.00    18763.05   \n",
       "49996    Fiscal  2014        35471    1787.41      0.00      0.00        0.00   \n",
       "49997    Fiscal  2016        42176   36552.83      0.00      0.00     6802.48   \n",
       "49998    Fiscal  2016        10980   46995.30      0.00  10943.14     8840.98   \n",
       "49999    Fiscal  2014        29083   69268.81      0.00   1648.09    15119.46   \n",
       "\n",
       "       Health/Dental  Other_Benefits  Age         City  Experience_years  \\\n",
       "0           12500.56         7605.75   57     New York                14   \n",
       "1             442.03          141.59   57     New York                40   \n",
       "2           12464.61         8011.41   57  Los Angeles                 6   \n",
       "3               0.00         3936.63   57      Houston                11   \n",
       "4            5908.52         3254.50   57  Los Angeles                11   \n",
       "...              ...             ...  ...          ...               ...   \n",
       "49995       13068.80         9406.86   57     New York                12   \n",
       "49996         563.31          145.36   57  Los Angeles                11   \n",
       "49997        6855.83         3071.63   57      Houston                31   \n",
       "49998       10624.64         4706.37   57  Los Angeles                21   \n",
       "49999       12464.61         5853.52   57  Los Angeles                39   \n",
       "\n",
       "        Department  Performance_Score  \n",
       "0      Engineering                 77  \n",
       "1      Engineering                 92  \n",
       "2               Hr                 97  \n",
       "3        Marketing                 98  \n",
       "4        Marketing                 96  \n",
       "...            ...                ...  \n",
       "49995    Marketing                 72  \n",
       "49996           Hr                 77  \n",
       "49997           IT                 88  \n",
       "49998           Hr                 72  \n",
       "49999    Marketing                 84  \n",
       "\n",
       "[50000 rows x 14 columns]"
      ]
     },
     "execution_count": 154,
     "metadata": {},
     "output_type": "execute_result"
    }
   ],
   "source": [
    "prop"
   ]
  },
  {
   "cell_type": "code",
   "execution_count": 155,
   "id": "177fc06a-d3ae-4245-adb0-4f0b066986ff",
   "metadata": {},
   "outputs": [],
   "source": [
    "#Descriptive Statistics"
   ]
  },
  {
   "cell_type": "code",
   "execution_count": 156,
   "id": "f5052438-b5a6-4b17-a3bc-5b9539aa6ee1",
   "metadata": {},
   "outputs": [
    {
     "name": "stdout",
     "output_type": "stream",
     "text": [
      "               Year   Employee_Id       Salaries       Overtime  \\\n",
      "count  50000.000000  50000.000000   50000.000000   50000.000000   \n",
      "mean    2014.323520  26951.248280   63217.637922    4360.292035   \n",
      "std        1.031851  15538.458578   44813.489329   11080.645344   \n",
      "min     2013.000000      1.000000       0.000000       0.000000   \n",
      "25%     2013.000000  13509.750000   23347.365000       0.000000   \n",
      "50%     2014.000000  27023.500000   62466.200000       0.000000   \n",
      "75%     2015.000000  40364.250000   93031.832500    2649.540000   \n",
      "max     2016.000000  53793.000000  507831.600000  208668.820000   \n",
      "\n",
      "               Bonus     Retirement  Health/Dental  Other_Benefits      Age  \\\n",
      "count   50000.000000   50000.000000   50000.000000    50000.000000  50000.0   \n",
      "mean     3733.555438   12931.361832    8901.481263     4653.323257     57.0   \n",
      "std      7585.829696    9811.791530    4909.312025     3788.438551      0.0   \n",
      "min         0.000000       0.000000       0.000000        0.000000     57.0   \n",
      "25%         0.000000    3561.947500    4267.960000     1590.170000     57.0   \n",
      "50%       648.000000   13150.395000   11967.270000     4360.035000     57.0   \n",
      "75%      4477.030000   19581.260000   12801.790000     6854.235000     57.0   \n",
      "max    199112.350000  105052.980000   21291.180000    34108.750000     57.0   \n",
      "\n",
      "       Experience_years  Performance_Score  \n",
      "count      50000.000000       50000.000000  \n",
      "mean          20.065340          84.499860  \n",
      "std           11.853381           8.649253  \n",
      "min            0.000000          70.000000  \n",
      "25%           10.000000          77.000000  \n",
      "50%           20.000000          84.000000  \n",
      "75%           30.000000          92.000000  \n",
      "max           40.000000          99.000000  \n"
     ]
    }
   ],
   "source": [
    "#Basic Descriptions\n",
    "print(prop.describe())"
   ]
  },
  {
   "cell_type": "code",
   "execution_count": 157,
   "id": "13b3f3b6-aac8-4327-bd75-fec9d49c98b9",
   "metadata": {},
   "outputs": [],
   "source": [
    "#Central Tendency\n",
    "mean_bonus = prop['Bonus'].mean()\n",
    "median_bonus = prop['Bonus'].median()\n",
    "mode_bonus = prop['Bonus'].mode().iloc[0]"
   ]
  },
  {
   "cell_type": "code",
   "execution_count": 159,
   "id": "62179d72-0820-44ec-9432-de3c37819b8a",
   "metadata": {},
   "outputs": [],
   "source": [
    "#Dispersion\n",
    "std_dev_bonus=prop['Bonus'].std()\n",
    "variance_bonus =prop ['Bonus'].var()"
   ]
  },
  {
   "cell_type": "code",
   "execution_count": 161,
   "id": "54467445-4556-4f2a-8def-9e649335f3dd",
   "metadata": {},
   "outputs": [],
   "source": [
    "#Frequency Distribution\n",
    "frequency_city=prop['City'].value_counts()"
   ]
  },
  {
   "cell_type": "code",
   "execution_count": 163,
   "id": "b6e63dd4-7ecb-4771-8260-5247a6dbcb9d",
   "metadata": {},
   "outputs": [
    {
     "name": "stderr",
     "output_type": "stream",
     "text": [
      "C:\\Users\\HP\\anaconda3\\Lib\\site-packages\\seaborn\\_oldcore.py:1119: FutureWarning: use_inf_as_na option is deprecated and will be removed in a future version. Convert inf values to NaN before operating instead.\n",
      "  with pd.option_context('mode.use_inf_as_na', True):\n"
     ]
    },
    {
     "data": {
      "image/png": "[encoded data removed]",
      "text/plain": [
       "<Figure size 640x480 with 1 Axes>"
      ]
     },
     "metadata": {},
     "output_type": "display_data"
    },
    {
     "data": {
      "image/png": "[encoded data removed]",
      "text/plain": [
       "<Figure size 640x480 with 1 Axes>"
      ]
     },
     "metadata": {},
     "output_type": "display_data"
    }
   ],
   "source": [
    "#visualizations\n",
    "sns.histplot(prop['Performance_Score'],kde=True)\n",
    "plt.show()\n",
    "sns.boxplot(x=prop['Department'],y=prop['Overtime'])\n",
    "plt.show()"
   ]
  },
  {
   "cell_type": "code",
   "execution_count": 176,
   "id": "f8e62fd6-0596-4bad-8998-95cc506ac686",
   "metadata": {},
   "outputs": [],
   "source": [
    "propp=prop.drop(['Year_Type','City','Department'],axis=1)"
   ]
  },
  {
   "cell_type": "code",
   "execution_count": 199,
   "id": "04e500de-e54f-41d2-bb17-7e9776b4ca56",
   "metadata": {},
   "outputs": [],
   "source": [
    "from sklearn.linear_model import LogisticRegression\n",
    "from sklearn.metrics import accuracy_score, confusion_matrix,classification_report\n",
    "from sklearn.model_selection import train_test_split\n",
    "from sklearn.metrics import mean_squared_error,r2_score"
   ]
  },
  {
   "cell_type": "code",
   "execution_count": 188,
   "id": "452ec4ef-9d7d-42d1-a427-12da84ca1566",
   "metadata": {},
   "outputs": [],
   "source": [
    "X=propp.drop('Age',axis=1)\n",
    "y=propp['Age']"
   ]
  },
  {
   "cell_type": "code",
   "execution_count": 189,
   "id": "b39bf186-2d54-4644-b985-650ed56bec3a",
   "metadata": {},
   "outputs": [],
   "source": [
    "threshold_value=50"
   ]
  },
  {
   "cell_type": "code",
   "execution_count": 190,
   "id": "a19b6dcd-0a39-456b-a606-c882600f0efd",
   "metadata": {},
   "outputs": [],
   "source": [
    "y_train=(y_train>threshold_value).astype(int)\n",
    "y_test=(y_test>threshold_value).astype(int)"
   ]
  },
  {
   "cell_type": "code",
   "execution_count": 184,
   "id": "2ff80306-974f-421a-9ca1-c83807157ef4",
   "metadata": {},
   "outputs": [],
   "source": [
    "X_train,X_test,y_train,y_test=train_test_split(X,y,test_size=0.2,random_state=42)"
   ]
  },
  {
   "cell_type": "code",
   "execution_count": 191,
   "id": "602255e8-69f7-44b0-9fdf-53e37031f05a",
   "metadata": {},
   "outputs": [
    {
     "data": {
      "text/html": [
       "<style>#sk-container-id-1 {color: black;background-color: white;}#sk-container-id-1 pre{padding: 0;}#sk-container-id-1 div.sk-toggleable {background-color: white;}#sk-container-id-1 label.sk-toggleable__label {cursor: pointer;display: block;width: 100%;margin-bottom: 0;padding: 0.3em;box-sizing: border-box;text-align: center;}#sk-container-id-1 label.sk-toggleable__label-arrow:before {content: \"▸\";float: left;margin-right: 0.25em;color: #696969;}#sk-container-id-1 label.sk-toggleable__label-arrow:hover:before {color: black;}#sk-container-id-1 div.sk-estimator:hover label.sk-toggleable__label-arrow:before {color: black;}#sk-container-id-1 div.sk-toggleable__content {max-height: 0;max-width: 0;overflow: hidden;text-align: left;background-color: #f0f8ff;}#sk-container-id-1 div.sk-toggleable__content pre {margin: 0.2em;color: black;border-radius: 0.25em;background-color: #f0f8ff;}#sk-container-id-1 input.sk-toggleable__control:checked~div.sk-toggleable__content {max-height: 200px;max-width: 100%;overflow: auto;}#sk-container-id-1 input.sk-toggleable__control:checked~label.sk-toggleable__label-arrow:before {content: \"▾\";}#sk-container-id-1 div.sk-estimator input.sk-toggleable__control:checked~label.sk-toggleable__label {background-color: #d4ebff;}#sk-container-id-1 div.sk-label input.sk-toggleable__control:checked~label.sk-toggleable__label {background-color: #d4ebff;}#sk-container-id-1 input.sk-hidden--visually {border: 0;clip: rect(1px 1px 1px 1px);clip: rect(1px, 1px, 1px, 1px);height: 1px;margin: -1px;overflow: hidden;padding: 0;position: absolute;width: 1px;}#sk-container-id-1 div.sk-estimator {font-family: monospace;background-color: #f0f8ff;border: 1px dotted black;border-radius: 0.25em;box-sizing: border-box;margin-bottom: 0.5em;}#sk-container-id-1 div.sk-estimator:hover {background-color: #d4ebff;}#sk-container-id-1 div.sk-parallel-item::after {content: \"\";width: 100%;border-bottom: 1px solid gray;flex-grow: 1;}#sk-container-id-1 div.sk-label:hover label.sk-toggleable__label {background-color: #d4ebff;}#sk-container-id-1 div.sk-serial::before {content: \"\";position: absolute;border-left: 1px solid gray;box-sizing: border-box;top: 0;bottom: 0;left: 50%;z-index: 0;}#sk-container-id-1 div.sk-serial {display: flex;flex-direction: column;align-items: center;background-color: white;padding-right: 0.2em;padding-left: 0.2em;position: relative;}#sk-container-id-1 div.sk-item {position: relative;z-index: 1;}#sk-container-id-1 div.sk-parallel {display: flex;align-items: stretch;justify-content: center;background-color: white;position: relative;}#sk-container-id-1 div.sk-item::before, #sk-container-id-1 div.sk-parallel-item::before {content: \"\";position: absolute;border-left: 1px solid gray;box-sizing: border-box;top: 0;bottom: 0;left: 50%;z-index: -1;}#sk-container-id-1 div.sk-parallel-item {display: flex;flex-direction: column;z-index: 1;position: relative;background-color: white;}#sk-container-id-1 div.sk-parallel-item:first-child::after {align-self: flex-end;width: 50%;}#sk-container-id-1 div.sk-parallel-item:last-child::after {align-self: flex-start;width: 50%;}#sk-container-id-1 div.sk-parallel-item:only-child::after {width: 0;}#sk-container-id-1 div.sk-dashed-wrapped {border: 1px dashed gray;margin: 0 0.4em 0.5em 0.4em;box-sizing: border-box;padding-bottom: 0.4em;background-color: white;}#sk-container-id-1 div.sk-label label {font-family: monospace;font-weight: bold;display: inline-block;line-height: 1.2em;}#sk-container-id-1 div.sk-label-container {text-align: center;}#sk-container-id-1 div.sk-container {/* jupyter's `normalize.less` sets `[hidden] { display: none; }` but bootstrap.min.css set `[hidden] { display: none !important; }` so we also need the `!important` here to be able to override the default hidden behavior on the sphinx rendered scikit-learn.org. See: https://github.com/scikit-learn/scikit-learn/issues/21755 */display: inline-block !important;position: relative;}#sk-container-id-1 div.sk-text-repr-fallback {display: none;}</style><div id=\"sk-container-id-1\" class=\"sk-top-container\"><div class=\"sk-text-repr-fallback\"><pre>LogisticRegression(max_iter=1000)</pre><b>In a Jupyter environment, please rerun this cell to show the HTML representation or trust the notebook. <br />On GitHub, the HTML representation is unable to render, please try loading this page with nbviewer.org.</b></div><div class=\"sk-container\" hidden><div class=\"sk-item\"><div class=\"sk-estimator sk-toggleable\"><input class=\"sk-toggleable__control sk-hidden--visually\" id=\"sk-estimator-id-1\" type=\"checkbox\" checked><label for=\"sk-estimator-id-1\" class=\"sk-toggleable__label sk-toggleable__label-arrow\">LogisticRegression</label><div class=\"sk-toggleable__content\"><pre>LogisticRegression(max_iter=1000)</pre></div></div></div></div></div>"
      ],
      "text/plain": [
       "LogisticRegression(max_iter=1000)"
      ]
     },
     "execution_count": 191,
     "metadata": {},
     "output_type": "execute_result"
    }
   ],
   "source": [
    "#create and train the model\n",
    "Logistic_model= LogisticRegression(max_iter=1000)\n",
    "Logistic_model.fit(X_train,y_train)"
   ]
  },
  {
   "cell_type": "code",
   "execution_count": 196,
   "id": "6b74a0a4-6c70-4019-b055-f3b97919c6c3",
   "metadata": {},
   "outputs": [],
   "source": [
    "#Predictions and Evaluate\n",
    "Linear_model=LogisticRegression(max_iter=1000)\n",
    "Linear_model.fit(X_train, y_train)\n",
    "y_pred=Linear_model.predict(X_test)"
   ]
  },
  {
   "cell_type": "code",
   "execution_count": 1,
   "id": "fb19365f-f46f-4ebf-9bfb-0f05995b51e7",
   "metadata": {},
   "outputs": [],
   "source": [
    "#Logistic Regression is a statistcal method used for binary classification problems, where the outcome variable is categorical\n",
    "#can take on two possible values(e.g, success/failure, yes/no).it models the reltionship between one or more independent variables(predictors)\n",
    "#and the probability of a certain class or event"
   ]
  },
  {
   "cell_type": "code",
   "execution_count": null,
   "id": "9a8e1930-be87-4fcf-a15b-5b325901da38",
   "metadata": {},
   "outputs": [],
   "source": []
  }
 ],
 "metadata": {
  "kernelspec": {
   "display_name": "Python 3 (ipykernel)",
   "language": "python",
   "name": "python3"
  },
  "language_info": {
   "codemirror_mode": {
    "name": "ipython",
    "version": 3
   },
   "file_extension": ".py",
   "mimetype": "text/x-python",
   "name": "python",
   "nbconvert_exporter": "python",
   "pygments_lexer": "ipython3",
   "version": "3.11.7"
  }
 },
 "nbformat": 4,
 "nbformat_minor": 5
}
